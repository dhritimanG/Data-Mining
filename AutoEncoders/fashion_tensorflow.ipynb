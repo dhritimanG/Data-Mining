{
 "cells": [
  {
   "cell_type": "code",
   "execution_count": 3,
   "metadata": {},
   "outputs": [],
   "source": [
    "#!/usr/bin/env python2\n",
    "# -*- coding: utf-8 -*-\n",
    "\"\"\"\n",
    "Created on Tue Feb 13 02:41:31 2018\n",
    "\n",
    "@author: dhritiman\n",
    "\"\"\"\n",
    "\n",
    "def load_mnist(path, kind='train'):\n",
    "    import os\n",
    "    import gzip\n",
    "    import numpy as np\n",
    "\n",
    "    \"\"\"Load MNIST data from `path`\"\"\"\n",
    "    labels_path = os.path.join(path,\n",
    "                               '%s-labels-idx1-ubyte.gz'\n",
    "                               % kind)\n",
    "    images_path = os.path.join(path,\n",
    "                               '%s-images-idx3-ubyte.gz'\n",
    "                               % kind)\n",
    "\n",
    "    with gzip.open(labels_path, 'rb') as lbpath:\n",
    "        labels = np.frombuffer(lbpath.read(), dtype=np.uint8,\n",
    "                               offset=8)\n",
    "\n",
    "    with gzip.open(images_path, 'rb') as imgpath:\n",
    "        images = np.frombuffer(imgpath.read(), dtype=np.uint8,\n",
    "                               offset=16).reshape(len(labels), 784)\n",
    "\n",
    "    return images, labels\n",
    "\n",
    "x_train, train_labels = load_mnist('/Users/dhritiman/Documents/Documents - Dhritiman’s MacBook Pro/GitHub/fashion-mnist/data/fashion', kind='train')\n",
    "x_test, test_labels = load_mnist('/Users/dhritiman/Documents/Documents - Dhritiman’s MacBook Pro/GitHub/fashion-mnist/data/fashion', kind='t10k')"
   ]
  },
  {
   "cell_type": "code",
   "execution_count": 4,
   "metadata": {},
   "outputs": [],
   "source": [
    "img_size = 28\n",
    "img_size_flat = img_size*img_size\n",
    "img_shape = (img_size,img_size)\n",
    "num_classes = 10"
   ]
  },
  {
   "cell_type": "code",
   "execution_count": 7,
   "metadata": {},
   "outputs": [],
   "source": [
    "import matplotlib.pyplot as plt\n",
    "import tensorflow as tf\n",
    "import numpy as np\n",
    "from sklearn.metrics import confusion_matrix"
   ]
  },
  {
   "cell_type": "code",
   "execution_count": 8,
   "metadata": {},
   "outputs": [],
   "source": [
    "# Image plotter\n",
    "def plot_images(images, cls_true, cls_pred=None):\n",
    "    assert len(images) == len(cls_true) == 9\n",
    "    \n",
    "    # Create figure with 3x3 sub-plots.\n",
    "    fig, axes = plt.subplots(3, 3)\n",
    "    fig.subplots_adjust(hspace=0.3, wspace=0.3)\n",
    "\n",
    "    for i, ax in enumerate(axes.flat):\n",
    "        # Plot image.\n",
    "        ax.imshow(images[i].reshape(img_shape), cmap='binary')\n",
    "\n",
    "        # Show true and predicted classes.\n",
    "        if cls_pred is None:\n",
    "            xlabel = \"True: {0}\".format(cls_true[i])\n",
    "        else:\n",
    "            xlabel = \"True: {0}, Pred: {1}\".format(cls_true[i], cls_pred[i])\n",
    "\n",
    "        ax.set_xlabel(xlabel)\n",
    "        \n",
    "        # Remove ticks from the plot.\n",
    "        ax.set_xticks([])\n",
    "        ax.set_yticks([])\n",
    "        \n",
    "    # Ensure the plot is shown correctly with multiple plots\n",
    "    # in a single Notebook cell.\n",
    "    plt.show()"
   ]
  },
  {
   "cell_type": "code",
   "execution_count": 9,
   "metadata": {},
   "outputs": [
    {
     "data": {
      "image/png": "[encoded data removed]",
      "text/plain": [
       "<Figure size 432x288 with 9 Axes>"
      ]
     },
     "metadata": {},
     "output_type": "display_data"
    }
   ],
   "source": [
    "# Plot first 10 test set images\n",
    "images10 = x_test[0:9]\n",
    "cls_true = test_labels[0:9]\n",
    "plot_images(images=images10, cls_true=cls_true)"
   ]
  },
  {
   "cell_type": "code",
   "execution_count": 10,
   "metadata": {},
   "outputs": [],
   "source": [
    "# One-Hot Encoding\n",
    "# Train Set\n",
    "tmp_train = np.zeros((x_train.shape[0], 10))\n",
    "for i in range(len(tmp_train)):\n",
    "    tmp_train[i][train_labels[i]] = 1\n",
    "\n",
    "# Test Set\n",
    "tmp_test = np.zeros((x_test.shape[0], 10))\n",
    "for i in range(len(tmp_test)):\n",
    "    tmp_test[i][test_labels[i]] = 1\n",
    "\n",
    "\n",
    "train_labels_hot_enoded = tmp_train\n",
    "test_labels_hot_enoded = tmp_test"
   ]
  },
  {
   "cell_type": "code",
   "execution_count": 11,
   "metadata": {},
   "outputs": [],
   "source": [
    "# TensorFlow work ##########################\n",
    "\n",
    "# Holds the images that are input to the Tensorflow graph\n",
    "x = tf.placeholder(tf.float32, [None, img_size_flat])\n",
    "\n",
    "# Holds the true labels associated with the images that were input in the placeholder variable x\n",
    "y_true = tf.placeholder(tf.float32, [None, num_classes])\n",
    "\n",
    "# Holds the the true class of each image in the placeholder variable x\n",
    "y_true_cls = tf.placeholder(tf.int64, [None])\n",
    "\n",
    "\n",
    "# Holds the weights \n",
    "weights = tf.Variable(tf.zeros([img_size_flat, num_classes]))\n",
    "\n",
    "\n",
    "# Holds the biases\n",
    "biases = tf.Variable(tf.zeros([num_classes]))\n",
    "\n",
    "#  Model: This simple mathematical model multiplies the images in the placeholder variable x with the weights and then adds the biases.\n",
    "logits = tf.matmul(x, weights) + biases\n",
    "\n",
    "# Normalizing logits\n",
    "y_pred = tf.nn.softmax(logits)\n",
    "\n",
    "# Index of largest element in each row of y_pred:\n",
    "y_pred_cls = tf.argmax(y_pred, axis=1)\n",
    "\n",
    "# Cross Entropy\n",
    "cross_entropy = tf.nn.softmax_cross_entropy_with_logits(logits=logits,\n",
    "                                                        labels=y_true)\n",
    "\n",
    "# Average cross entropy of all images as a scalar value\n",
    "cost = tf.reduce_mean(cross_entropy)\n",
    "\n",
    "# Optimizes the model by minimizing cross entropy\n",
    "optimizer = tf.train.GradientDescentOptimizer(learning_rate=.01).minimize(cost)\n",
    "\n",
    "# Few more performance measures ##########################\n",
    "\n",
    "# Boolean vector whether the predicted class equals the true class of each image\n",
    "correct_prediction = tf.equal(y_pred_cls, y_true_cls)\n",
    "\n",
    "# This calculates the classification accuracy by first type-casting the vector \n",
    "# of booleans to floats, so that False becomes 0 and True becomes 1, and then\n",
    "#  calculating the average of these numbers.\n",
    "accuracy = tf.reduce_mean(tf.cast(correct_prediction, tf.float32))\n",
    "\n",
    "# Creating a TensorFlow Session\n",
    "session = tf.Session()\n",
    "\n",
    "# Initializing the variables- weights and biases\n",
    "session.run(tf.global_variables_initializer())\n",
    "\n",
    "# Using Batch Gradient Descent\n",
    "batch_size = 256\n",
    "\n",
    "import random"
   ]
  },
  {
   "cell_type": "code",
   "execution_count": 12,
   "metadata": {},
   "outputs": [],
   "source": [
    "# Function to gradually improve weights and biases with each optimization iteration\n",
    "def optimize(num_iterations):\n",
    "    for i in range(num_iterations):\n",
    "        # Get a batch of training examples.\n",
    "        # x_batch now holds a batch of images and\n",
    "        # y_true_batch are the true labels for those images.\n",
    "        indices = random.sample(range(len(x_train)), batch_size)\n",
    "        x_batch = x_train[indices]\n",
    "        y_true_batch = train_labels_hot_enoded[indices]\n",
    "        \n",
    "        # Put the batch into a dict with the proper names\n",
    "        # for placeholder variables in the TensorFlow graph.\n",
    "        # Note that the placeholder for y_true_cls is not set\n",
    "        # because it is not used during training.\n",
    "        feed_dict_train = {x: x_batch,\n",
    "                           y_true: y_true_batch}\n",
    "        \n",
    "        # Run the optimizer using this batch of training data.\n",
    "        # TensorFlow assigns the variables in feed_dict_train\n",
    "        # to the placeholder variables and then runs the optimizer.\n",
    "        session.run(optimizer, feed_dict=feed_dict_train)\n",
    "\n",
    "\n",
    "feed_dict_test = {x: x_test,\n",
    "                  y_true: test_labels_hot_enoded,\n",
    "                  y_true_cls: test_labels}\n",
    "\n",
    "def print_accuracy():\n",
    "    # Use TensorFlow to compute the accuracy.\n",
    "    acc = session.run(accuracy, feed_dict=feed_dict_test)\n",
    "    \n",
    "    # Print the accuracy.\n",
    "    print(\"Accuracy on test-set: {0:.1%}\".format(acc))"
   ]
  },
  {
   "cell_type": "code",
   "execution_count": 13,
   "metadata": {},
   "outputs": [
    {
     "name": "stdout",
     "output_type": "stream",
     "text": [
      "Accuracy on test-set: 78.8%\n"
     ]
    }
   ],
   "source": [
    "optimize(num_iterations=5000)\n",
    "print_accuracy()"
   ]
  },
  {
   "cell_type": "code",
   "execution_count": 14,
   "metadata": {},
   "outputs": [
    {
     "name": "stdout",
     "output_type": "stream",
     "text": [
      "Accuracy on test-set: 77.1%\n"
     ]
    }
   ],
   "source": [
    "optimize(num_iterations=30000)\n",
    "print_accuracy()"
   ]
  },
  {
   "cell_type": "code",
   "execution_count": null,
   "metadata": {},
   "outputs": [],
   "source": []
  }
 ],
 "metadata": {
  "kernelspec": {
   "display_name": "Python 3",
   "language": "python",
   "name": "python3"
  },
  "language_info": {
   "codemirror_mode": {
    "name": "ipython",
    "version": 3
   },
   "file_extension": ".py",
   "mimetype": "text/x-python",
   "name": "python",
   "nbconvert_exporter": "python",
   "pygments_lexer": "ipython3",
   "version": "3.6.4"
  }
 },
 "nbformat": 4,
 "nbformat_minor": 2
}
